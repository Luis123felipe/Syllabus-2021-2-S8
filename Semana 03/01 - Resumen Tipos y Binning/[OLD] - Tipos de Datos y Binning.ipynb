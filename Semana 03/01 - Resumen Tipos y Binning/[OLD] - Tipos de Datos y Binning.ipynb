{
 "cells": [
  {
   "cell_type": "markdown",
   "id": "1fc9769c-cb10-449c-b241-12bd50b62ac0",
   "metadata": {},
   "source": [
    "# Tipos de Datos y Binning\n",
    "\n",
    "Cuando trabajamos en proyectos de ciencia de datos, es importante reconocer los diferentes **tipos de datos**: numéricos (discretos y contínuos), categóricos y ordinales. \n",
    "\n",
    "## Datos cuantitativos\n",
    "\n",
    "Los datos cuantitativos son representados por números que pueden ser discretos y continuos, dependiendo de los valores que vamos a observar.\n",
    "\n",
    "Los **datos discretos** representan ítems que pueden ser contados. En general, este tipo de datoo está asociado a los números enteros. Por ejemplo, la población de una ciudad es un dato discreto, ya que corresponderá a un número entero positivo.\n",
    "\n",
    "En la otra arista, tenemos que **los datos continuos** representan valores que no pueden ser contados y sólo pueden ser descritos con números reales. Por ejemplo, la cantidad de kilómetros recorridos no puede ser medida con exactitud, puede ser que hayamos recorrido 1.7 km o 1.6987 km.\n",
    "\n",
    "## Datos cualitativos\n",
    "\n",
    "Si los datos nos hablan de determinadas categorías no numéricas, entonces estamos hablando de datos cualitativos o categóricos; el estado civil, la ciudad natal, o los tipos de películas que te gustan, etc. Los datos categóricos se asocian a una \"etiqueta\" (por ejemplo, \"casado\", \"soltero\", \"viudo\", etc.), en donde las categorías son finitas.\n",
    "\n",
    "## Datos ordinales\n",
    "\n",
    "Una categoría intermedia entre los dos tipos de datos anteriores son los datos ordinales. Este tipo de dato es un ddato categórico que puede ser ordenado. Es decir, que podemos establecer un ranking para estos datos, el que posiblemente luego tenga un rol importante en la etapa de análisis. Por ejemplo, cuando calificamos un servicio entre una a cinco estrellas es un dato ordinal, ya que nuestra calificación está en un número acotado de valores (una, dos, tres, cuatro o cinco estrellas) en las que hay un orden subyacente: obtener una estrella es peor que obtener dos, dos es peor que obtener 3, y así sucesivamente.\n"
   ]
  },
  {
   "cell_type": "markdown",
   "id": "dc782088-4ca6-4859-8666-825cc564522e",
   "metadata": {},
   "source": [
    "En este botebooks nos concentraremos en cómo analizar **datos numéricos (cuantitativos)**, que se deben agrupar en clases o intervalos para poder ser analizados. `Pandas` ofrece una funcion justamente para poder armar dichos intervalos y analizar la frecuencia exsitente en cada uno de ellos. Esta es la función `cut`."
   ]
  },
  {
   "cell_type": "code",
   "execution_count": 1,
   "id": "da9fd9ce-e945-43d3-a244-92ef74c1dc39",
   "metadata": {},
   "outputs": [],
   "source": [
    "# Importamos la librería pandas\n",
    "import pandas as pd\n",
    "import numpy as np"
   ]
  },
  {
   "cell_type": "code",
   "execution_count": 2,
   "id": "b9922b37-f99f-4022-9764-8fc25ec6c69c",
   "metadata": {},
   "outputs": [
    {
     "data": {
      "text/plain": [
       "array([1, 7, 5, 4, 6, 3])"
      ]
     },
     "execution_count": 2,
     "metadata": {},
     "output_type": "execute_result"
    }
   ],
   "source": [
    "# Generamos una serie con 6 números, que por ejemplo podría definir la cantidad de hijos de una muestra \n",
    "serie1 = np.array([1, 7, 5, 4, 6, 3])\n",
    "serie1"
   ]
  },
  {
   "cell_type": "code",
   "execution_count": 4,
   "id": "9a46cf68-f8a2-4f00-bda4-129a5b783327",
   "metadata": {},
   "outputs": [
    {
     "data": {
      "text/plain": [
       "[(0.994, 4.0], (4.0, 7.0], (4.0, 7.0], (0.994, 4.0], (4.0, 7.0], (0.994, 4.0]]\n",
       "Categories (2, interval[float64]): [(0.994, 4.0] < (4.0, 7.0]]"
      ]
     },
     "execution_count": 4,
     "metadata": {},
     "output_type": "execute_result"
    }
   ],
   "source": [
    "# Aquí estamos generando 2 intervalos en los cuales categorizar \n",
    "# los números del objeto serie1, con lo cual podramos ver en que intervalo hay més ocurrencias.\n",
    "pd.cut(serie1, 2)"
   ]
  },
  {
   "cell_type": "markdown",
   "id": "7e80c1e3",
   "metadata": {},
   "source": [
    "En este caso estamos pidiendo crear dos intervalos, en donde todos van a ser de igual \"ancho\"."
   ]
  },
  {
   "cell_type": "code",
   "execution_count": 5,
   "id": "93f633fe-97d4-4cbd-b1b1-4b13354cc243",
   "metadata": {},
   "outputs": [],
   "source": [
    "serie2 = pd.cut(serie1, 2)"
   ]
  },
  {
   "cell_type": "code",
   "execution_count": 7,
   "id": "ff8d2ed1-3dba-4413-b416-26abe560d5fb",
   "metadata": {},
   "outputs": [
    {
     "data": {
      "text/plain": [
       "[(0.994, 4.0], (4.0, 7.0], (4.0, 7.0], (0.994, 4.0], (4.0, 7.0], (0.994, 4.0]]\n",
       "Categories (2, interval[float64]): [(0.994, 4.0] < (4.0, 7.0]]"
      ]
     },
     "execution_count": 7,
     "metadata": {},
     "output_type": "execute_result"
    }
   ],
   "source": [
    "# Como se puede apreciar, cada ocurrecia del objeto serie1 \n",
    "# ahora quedó categorizada en uno de los 2 intervalos definidos. \n",
    "serie2"
   ]
  },
  {
   "cell_type": "markdown",
   "id": "8f25897c",
   "metadata": {},
   "source": [
    "Ahora veamos otro ejemplo en el que vamos a crear y analizar una tabla de frecuencias."
   ]
  },
  {
   "cell_type": "code",
   "execution_count": 11,
   "id": "e9597ab1-da61-4157-aac7-14207aa052f4",
   "metadata": {},
   "outputs": [
    {
     "data": {
      "text/plain": [
       "a     2\n",
       "b     4\n",
       "c     6\n",
       "d     8\n",
       "e    10\n",
       "dtype: int64"
      ]
     },
     "execution_count": 11,
     "metadata": {},
     "output_type": "execute_result"
    }
   ],
   "source": [
    "s = pd.Series(np.array([2, 4, 6, 8, 10]),\n",
    "              index=['a', 'b', 'c', 'd', 'e'])\n",
    "s"
   ]
  },
  {
   "cell_type": "code",
   "execution_count": 12,
   "id": "2fd9ab4a-a4ee-4591-879c-b341ed4279ec",
   "metadata": {},
   "outputs": [
    {
     "data": {
      "text/plain": [
       "a    (1.992, 4.667]\n",
       "b    (1.992, 4.667]\n",
       "c    (4.667, 7.333]\n",
       "d     (7.333, 10.0]\n",
       "e     (7.333, 10.0]\n",
       "dtype: category\n",
       "Categories (3, interval[float64]): [(1.992, 4.667] < (4.667, 7.333] < (7.333, 10.0]]"
      ]
     },
     "execution_count": 12,
     "metadata": {},
     "output_type": "execute_result"
    }
   ],
   "source": [
    "tabla_freq = pd.cut(s, 3)\n",
    "tabla_freq"
   ]
  },
  {
   "cell_type": "code",
   "execution_count": 21,
   "id": "96b9b351-2744-4641-bb06-143896c2a107",
   "metadata": {},
   "outputs": [
    {
     "data": {
      "text/plain": [
       "(1.992, 4.667]    2\n",
       "(7.333, 10.0]     2\n",
       "(4.667, 7.333]    1\n",
       "dtype: int64"
      ]
     },
     "execution_count": 21,
     "metadata": {},
     "output_type": "execute_result"
    }
   ],
   "source": [
    "tabla_freq.value_counts()"
   ]
  },
  {
   "cell_type": "markdown",
   "id": "c3d63446",
   "metadata": {},
   "source": [
    "Ahora vamos a trabajar con set de datos más complejo, que representa las propinas de un restaurante."
   ]
  },
  {
   "cell_type": "code",
   "execution_count": 13,
   "id": "665f2c22-1a09-45b2-864c-7841f7351afc",
   "metadata": {},
   "outputs": [
    {
     "data": {
      "text/html": [
       "<div>\n",
       "<style scoped>\n",
       "    .dataframe tbody tr th:only-of-type {\n",
       "        vertical-align: middle;\n",
       "    }\n",
       "\n",
       "    .dataframe tbody tr th {\n",
       "        vertical-align: top;\n",
       "    }\n",
       "\n",
       "    .dataframe thead th {\n",
       "        text-align: right;\n",
       "    }\n",
       "</style>\n",
       "<table border=\"1\" class=\"dataframe\">\n",
       "  <thead>\n",
       "    <tr style=\"text-align: right;\">\n",
       "      <th></th>\n",
       "      <th>total_bill</th>\n",
       "      <th>tip</th>\n",
       "      <th>sex</th>\n",
       "      <th>smoker</th>\n",
       "      <th>day</th>\n",
       "      <th>time</th>\n",
       "      <th>size</th>\n",
       "    </tr>\n",
       "  </thead>\n",
       "  <tbody>\n",
       "    <tr>\n",
       "      <th>0</th>\n",
       "      <td>16.99</td>\n",
       "      <td>1.01</td>\n",
       "      <td>Female</td>\n",
       "      <td>No</td>\n",
       "      <td>Sun</td>\n",
       "      <td>Dinner</td>\n",
       "      <td>2</td>\n",
       "    </tr>\n",
       "    <tr>\n",
       "      <th>1</th>\n",
       "      <td>10.34</td>\n",
       "      <td>1.66</td>\n",
       "      <td>Male</td>\n",
       "      <td>No</td>\n",
       "      <td>Sun</td>\n",
       "      <td>Dinner</td>\n",
       "      <td>3</td>\n",
       "    </tr>\n",
       "    <tr>\n",
       "      <th>2</th>\n",
       "      <td>21.01</td>\n",
       "      <td>3.50</td>\n",
       "      <td>Male</td>\n",
       "      <td>No</td>\n",
       "      <td>Sun</td>\n",
       "      <td>Dinner</td>\n",
       "      <td>3</td>\n",
       "    </tr>\n",
       "    <tr>\n",
       "      <th>3</th>\n",
       "      <td>23.68</td>\n",
       "      <td>3.31</td>\n",
       "      <td>Male</td>\n",
       "      <td>No</td>\n",
       "      <td>Sun</td>\n",
       "      <td>Dinner</td>\n",
       "      <td>2</td>\n",
       "    </tr>\n",
       "    <tr>\n",
       "      <th>4</th>\n",
       "      <td>24.59</td>\n",
       "      <td>3.61</td>\n",
       "      <td>Female</td>\n",
       "      <td>No</td>\n",
       "      <td>Sun</td>\n",
       "      <td>Dinner</td>\n",
       "      <td>4</td>\n",
       "    </tr>\n",
       "    <tr>\n",
       "      <th>...</th>\n",
       "      <td>...</td>\n",
       "      <td>...</td>\n",
       "      <td>...</td>\n",
       "      <td>...</td>\n",
       "      <td>...</td>\n",
       "      <td>...</td>\n",
       "      <td>...</td>\n",
       "    </tr>\n",
       "    <tr>\n",
       "      <th>239</th>\n",
       "      <td>29.03</td>\n",
       "      <td>5.92</td>\n",
       "      <td>Male</td>\n",
       "      <td>No</td>\n",
       "      <td>Sat</td>\n",
       "      <td>Dinner</td>\n",
       "      <td>3</td>\n",
       "    </tr>\n",
       "    <tr>\n",
       "      <th>240</th>\n",
       "      <td>27.18</td>\n",
       "      <td>2.00</td>\n",
       "      <td>Female</td>\n",
       "      <td>Yes</td>\n",
       "      <td>Sat</td>\n",
       "      <td>Dinner</td>\n",
       "      <td>2</td>\n",
       "    </tr>\n",
       "    <tr>\n",
       "      <th>241</th>\n",
       "      <td>22.67</td>\n",
       "      <td>2.00</td>\n",
       "      <td>Male</td>\n",
       "      <td>Yes</td>\n",
       "      <td>Sat</td>\n",
       "      <td>Dinner</td>\n",
       "      <td>2</td>\n",
       "    </tr>\n",
       "    <tr>\n",
       "      <th>242</th>\n",
       "      <td>17.82</td>\n",
       "      <td>1.75</td>\n",
       "      <td>Male</td>\n",
       "      <td>No</td>\n",
       "      <td>Sat</td>\n",
       "      <td>Dinner</td>\n",
       "      <td>2</td>\n",
       "    </tr>\n",
       "    <tr>\n",
       "      <th>243</th>\n",
       "      <td>18.78</td>\n",
       "      <td>3.00</td>\n",
       "      <td>Female</td>\n",
       "      <td>No</td>\n",
       "      <td>Thur</td>\n",
       "      <td>Dinner</td>\n",
       "      <td>2</td>\n",
       "    </tr>\n",
       "  </tbody>\n",
       "</table>\n",
       "<p>244 rows × 7 columns</p>\n",
       "</div>"
      ],
      "text/plain": [
       "     total_bill   tip     sex smoker   day    time  size\n",
       "0         16.99  1.01  Female     No   Sun  Dinner     2\n",
       "1         10.34  1.66    Male     No   Sun  Dinner     3\n",
       "2         21.01  3.50    Male     No   Sun  Dinner     3\n",
       "3         23.68  3.31    Male     No   Sun  Dinner     2\n",
       "4         24.59  3.61  Female     No   Sun  Dinner     4\n",
       "..          ...   ...     ...    ...   ...     ...   ...\n",
       "239       29.03  5.92    Male     No   Sat  Dinner     3\n",
       "240       27.18  2.00  Female    Yes   Sat  Dinner     2\n",
       "241       22.67  2.00    Male    Yes   Sat  Dinner     2\n",
       "242       17.82  1.75    Male     No   Sat  Dinner     2\n",
       "243       18.78  3.00  Female     No  Thur  Dinner     2\n",
       "\n",
       "[244 rows x 7 columns]"
      ]
     },
     "execution_count": 13,
     "metadata": {},
     "output_type": "execute_result"
    }
   ],
   "source": [
    "url = (\"https://raw.github.com/pandas-dev/pandas/master/pandas/tests/io/data/csv/tips.csv\")\n",
    "tips = pd.read_csv(url)\n",
    "tips"
   ]
  },
  {
   "cell_type": "code",
   "execution_count": 14,
   "id": "4101dee9-ee0a-437a-a49d-a25e7872a79c",
   "metadata": {},
   "outputs": [
    {
     "data": {
      "text/html": [
       "<div>\n",
       "<style scoped>\n",
       "    .dataframe tbody tr th:only-of-type {\n",
       "        vertical-align: middle;\n",
       "    }\n",
       "\n",
       "    .dataframe tbody tr th {\n",
       "        vertical-align: top;\n",
       "    }\n",
       "\n",
       "    .dataframe thead th {\n",
       "        text-align: right;\n",
       "    }\n",
       "</style>\n",
       "<table border=\"1\" class=\"dataframe\">\n",
       "  <thead>\n",
       "    <tr style=\"text-align: right;\">\n",
       "      <th></th>\n",
       "      <th>total_bill</th>\n",
       "      <th>tip</th>\n",
       "      <th>size</th>\n",
       "    </tr>\n",
       "  </thead>\n",
       "  <tbody>\n",
       "    <tr>\n",
       "      <th>count</th>\n",
       "      <td>244.000000</td>\n",
       "      <td>244.000000</td>\n",
       "      <td>244.000000</td>\n",
       "    </tr>\n",
       "    <tr>\n",
       "      <th>mean</th>\n",
       "      <td>19.785943</td>\n",
       "      <td>2.998279</td>\n",
       "      <td>2.569672</td>\n",
       "    </tr>\n",
       "    <tr>\n",
       "      <th>std</th>\n",
       "      <td>8.902412</td>\n",
       "      <td>1.383638</td>\n",
       "      <td>0.951100</td>\n",
       "    </tr>\n",
       "    <tr>\n",
       "      <th>min</th>\n",
       "      <td>3.070000</td>\n",
       "      <td>1.000000</td>\n",
       "      <td>1.000000</td>\n",
       "    </tr>\n",
       "    <tr>\n",
       "      <th>25%</th>\n",
       "      <td>13.347500</td>\n",
       "      <td>2.000000</td>\n",
       "      <td>2.000000</td>\n",
       "    </tr>\n",
       "    <tr>\n",
       "      <th>50%</th>\n",
       "      <td>17.795000</td>\n",
       "      <td>2.900000</td>\n",
       "      <td>2.000000</td>\n",
       "    </tr>\n",
       "    <tr>\n",
       "      <th>75%</th>\n",
       "      <td>24.127500</td>\n",
       "      <td>3.562500</td>\n",
       "      <td>3.000000</td>\n",
       "    </tr>\n",
       "    <tr>\n",
       "      <th>max</th>\n",
       "      <td>50.810000</td>\n",
       "      <td>10.000000</td>\n",
       "      <td>6.000000</td>\n",
       "    </tr>\n",
       "  </tbody>\n",
       "</table>\n",
       "</div>"
      ],
      "text/plain": [
       "       total_bill         tip        size\n",
       "count  244.000000  244.000000  244.000000\n",
       "mean    19.785943    2.998279    2.569672\n",
       "std      8.902412    1.383638    0.951100\n",
       "min      3.070000    1.000000    1.000000\n",
       "25%     13.347500    2.000000    2.000000\n",
       "50%     17.795000    2.900000    2.000000\n",
       "75%     24.127500    3.562500    3.000000\n",
       "max     50.810000   10.000000    6.000000"
      ]
     },
     "execution_count": 14,
     "metadata": {},
     "output_type": "execute_result"
    }
   ],
   "source": [
    "#coupamos el describe para analizar las metricas de las variables continuas\n",
    "tips.describe()"
   ]
  },
  {
   "cell_type": "code",
   "execution_count": 15,
   "id": "a5e21eb2-5aca-428d-a92d-ee47290ccede",
   "metadata": {},
   "outputs": [],
   "source": [
    "# Vamos a crear un nuevo atributo llamado cat_frec \n",
    "# donde clasificaremos el total de la cuenta (Total_bil) en alguno de \n",
    "# los 7 intervalos que definiremos con CUT.\n",
    "tips['cat_frec'] = pd.cut(tips['total_bill'], 7)"
   ]
  },
  {
   "cell_type": "code",
   "execution_count": 18,
   "id": "4ef6ee08-6f46-4a70-a923-90024944e425",
   "metadata": {},
   "outputs": [
    {
     "name": "stdout",
     "output_type": "stream",
     "text": [
      "<class 'pandas.core.frame.DataFrame'>\n",
      "RangeIndex: 244 entries, 0 to 243\n",
      "Data columns (total 8 columns):\n",
      " #   Column      Non-Null Count  Dtype   \n",
      "---  ------      --------------  -----   \n",
      " 0   total_bill  244 non-null    float64 \n",
      " 1   tip         244 non-null    float64 \n",
      " 2   sex         244 non-null    object  \n",
      " 3   smoker      244 non-null    object  \n",
      " 4   day         244 non-null    object  \n",
      " 5   time        244 non-null    object  \n",
      " 6   size        244 non-null    int64   \n",
      " 7   cat_frec    244 non-null    category\n",
      "dtypes: category(1), float64(2), int64(1), object(4)\n",
      "memory usage: 14.1+ KB\n"
     ]
    }
   ],
   "source": [
    "# Mostramos los atributos de tips y ahora tenemos el cat_frec\n",
    "# con lo cual podemos contabilizar cuántos totales de cuentas están en cada intervalo\n",
    "# esto es relevante pues nos permite realizar \n",
    "# histogramas de cada variable cuantitativa\n",
    "tips.info()"
   ]
  },
  {
   "cell_type": "markdown",
   "id": "c5da109f",
   "metadata": {},
   "source": [
    "Primero con total bill, indicando el número de intervalos (en inglés _bin_)."
   ]
  },
  {
   "cell_type": "code",
   "execution_count": 19,
   "id": "b81f7337-bb06-4a26-95d2-28daafbe1d68",
   "metadata": {},
   "outputs": [
    {
     "data": {
      "text/plain": [
       "array([[<AxesSubplot:title={'center':'total_bill'}>]], dtype=object)"
      ]
     },
     "execution_count": 19,
     "metadata": {},
     "output_type": "execute_result"
    },
    {
     "data": {
      "image/png": "[encoded data removed]",
      "text/plain": [
       "<Figure size 432x288 with 1 Axes>"
      ]
     },
     "metadata": {
      "needs_background": "light"
     },
     "output_type": "display_data"
    }
   ],
   "source": [
    "tips.hist(column='total_bill', bins=7)"
   ]
  },
  {
   "cell_type": "markdown",
   "id": "c03c71de",
   "metadata": {},
   "source": [
    "Y ahora con la columna que habíamos creado."
   ]
  },
  {
   "cell_type": "code",
   "execution_count": 23,
   "id": "c52de441-91fb-41e3-a7f9-30881143d54d",
   "metadata": {},
   "outputs": [
    {
     "data": {
      "text/plain": [
       "<AxesSubplot:>"
      ]
     },
     "execution_count": 23,
     "metadata": {},
     "output_type": "execute_result"
    },
    {
     "data": {
      "image/png": "[encoded data removed]",
      "text/plain": [
       "<Figure size 432x288 with 1 Axes>"
      ]
     },
     "metadata": {
      "needs_background": "light"
     },
     "output_type": "display_data"
    }
   ],
   "source": [
    "tips['cat_frec'].value_counts(sort=False).plot(kind='bar')"
   ]
  },
  {
   "cell_type": "code",
   "execution_count": 25,
   "id": "8f50fa28",
   "metadata": {},
   "outputs": [
    {
     "name": "stdout",
     "output_type": "stream",
     "text": [
      "0      (16.71, 23.53]\n",
      "1       (9.89, 16.71]\n",
      "2      (16.71, 23.53]\n",
      "3      (23.53, 30.35]\n",
      "4      (23.53, 30.35]\n",
      "            ...      \n",
      "239    (23.53, 30.35]\n",
      "240    (23.53, 30.35]\n",
      "241    (16.71, 23.53]\n",
      "242    (16.71, 23.53]\n",
      "243    (16.71, 23.53]\n",
      "Name: cat_frec, Length: 244, dtype: category\n",
      "Categories (7, interval[float64]): [(3.022, 9.89] < (9.89, 16.71] < (16.71, 23.53] < (23.53, 30.35] < (30.35, 37.17] < (37.17, 43.99] < (43.99, 50.81]]\n"
     ]
    }
   ],
   "source": [
    "# En cada elemento del objeto Series tendremos\n",
    "# el intervalo al que pertenece.\n",
    "# Vemos que Pandas lo entrega como tipo \"categoría\"\n",
    "print(tips['cat_frec'])"
   ]
  },
  {
   "cell_type": "markdown",
   "id": "6cde497e-23d0-42a7-81ca-127a0edd92c7",
   "metadata": {},
   "source": [
    "Recordemos que además en Pandas podemos encontrar otras medidas estadísticas:\n",
    "\n",
    "- Media\n",
    "- Mínimo\n",
    "- Máximo\n",
    "- Mediana\n",
    "- Moda (que no sale direcatmente de `Pandas` sino de una libreria llamada `scipy`)"
   ]
  },
  {
   "cell_type": "code",
   "execution_count": 26,
   "id": "8b99c8fe-a8c2-4726-8fee-1e820c1eb3fe",
   "metadata": {},
   "outputs": [
    {
     "data": {
      "text/plain": [
       "19.78594262295082"
      ]
     },
     "execution_count": 26,
     "metadata": {},
     "output_type": "execute_result"
    }
   ],
   "source": [
    "np.mean(tips['total_bill'])"
   ]
  },
  {
   "cell_type": "code",
   "execution_count": 27,
   "id": "5a66a251-7578-47d2-992b-7c8dc923b6b9",
   "metadata": {},
   "outputs": [
    {
     "data": {
      "text/plain": [
       "3.07"
      ]
     },
     "execution_count": 27,
     "metadata": {},
     "output_type": "execute_result"
    }
   ],
   "source": [
    "np.min(tips['total_bill'])"
   ]
  },
  {
   "cell_type": "code",
   "execution_count": 28,
   "id": "af7e2200-da3e-462e-bf5a-ff617eba3c0a",
   "metadata": {},
   "outputs": [
    {
     "data": {
      "text/plain": [
       "50.81"
      ]
     },
     "execution_count": 28,
     "metadata": {},
     "output_type": "execute_result"
    }
   ],
   "source": [
    "np.max(tips['total_bill'])"
   ]
  },
  {
   "cell_type": "code",
   "execution_count": 29,
   "id": "8d3b63cd-9ac9-4562-8e77-48f2edc59032",
   "metadata": {},
   "outputs": [
    {
     "data": {
      "text/plain": [
       "17.795"
      ]
     },
     "execution_count": 29,
     "metadata": {},
     "output_type": "execute_result"
    }
   ],
   "source": [
    "np.median(tips['total_bill'])"
   ]
  },
  {
   "cell_type": "code",
   "execution_count": 37,
   "id": "bf2df0eb-ff8a-4df8-b922-6eafafe8bc5c",
   "metadata": {},
   "outputs": [
    {
     "data": {
      "text/plain": [
       "array([[13.42, 2.0, 'Male', 'No', 'Sat', 'Dinner', 2,\n",
       "        Interval(9.89, 16.71, closed='right')]], dtype=object)"
      ]
     },
     "execution_count": 37,
     "metadata": {},
     "output_type": "execute_result"
    }
   ],
   "source": [
    "from scipy import stats as st\n",
    "\n",
    "# Modas para cada columna\n",
    "mode = st.mode(tips)\n",
    "mode[0]"
   ]
  },
  {
   "cell_type": "code",
   "execution_count": 35,
   "id": "3ce5857a-8893-40bf-8669-5cbf27e90d0f",
   "metadata": {},
   "outputs": [
    {
     "name": "stdout",
     "output_type": "stream",
     "text": [
      "[[  3  33 157 151  87 176 156  93]]\n"
     ]
    }
   ],
   "source": [
    "# Podemos además el conteo de cada uno de estos valores\n",
    "print(mode[1])"
   ]
  },
  {
   "cell_type": "code",
   "execution_count": 36,
   "id": "ef8ef672-a047-409d-85dc-e50330ed6f68",
   "metadata": {},
   "outputs": [
    {
     "data": {
      "text/plain": [
       "ModeResult(mode=array([[13.42, 2.0, 'Male', 'No', 'Sat', 'Dinner', 2,\n",
       "        Interval(9.89, 16.71, closed='right')]], dtype=object), count=array([[  3,  33, 157, 151,  87, 176, 156,  93]]))"
      ]
     },
     "execution_count": 36,
     "metadata": {},
     "output_type": "execute_result"
    }
   ],
   "source": [
    "mode"
   ]
  },
  {
   "cell_type": "code",
   "execution_count": null,
   "id": "da835a5d",
   "metadata": {},
   "outputs": [],
   "source": []
  }
 ],
 "metadata": {
  "kernelspec": {
   "display_name": "Python 3",
   "language": "python",
   "name": "python3"
  },
  "language_info": {
   "codemirror_mode": {
    "name": "ipython",
    "version": 3
   },
   "file_extension": ".py",
   "mimetype": "text/x-python",
   "name": "python",
   "nbconvert_exporter": "python",
   "pygments_lexer": "ipython3",
   "version": "3.9.5"
  }
 },
 "nbformat": 4,
 "nbformat_minor": 5
}
